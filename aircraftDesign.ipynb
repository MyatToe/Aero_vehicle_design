{
 "cells": [
  {
   "cell_type": "markdown",
   "metadata": {},
   "source": [
    "- The MO1C-Gray Eagle is a **medium altitude long endurance** (MALE) unmanned aircraft system (UAS). it was developed by German Atomics-Aeronautical Systems. (GA-ASI's) for united states Army as an upgrade of General Atomics MO-1 predator.\n",
    "- The MO1C-Gray Eagle, an advanced variant of the reowned Predator series, stands as pinnacle of modern **unmanned aerial vehicle (UAV) technology**. It is sleek design and formidable capabilities evoke a sense of awe and admiration in aerospace community and beyond.\n",
    "- However, it is not just the Gray Eagle's versatility and adaptability make it a formidable assest across a spectrum of missions. it is cutting edge technology nested within it's frame that truly sparks curiosity. Equiped with art of sensors, communications systems and advanced avionics, this UAV represents a pradigm shift in **intelligence, survellience and reconnaissance(ISR)** capabilities.\n",
    "- It is ability to provide realtime high resomution imagery and **actionable intelligence** is nothing short of remarkable offering commanders a decesive edge on battlefield.\n",
    "- Beyond its technical powers, the Eagle Gray embodies a shift in the way we perceive **aerial operations** as a **remotely powered aircraft**. It challenges tradional notion of manned flights. It ability to operate for **extended duration with minimal logistical** footprint underscores its significance as a force-mass enabling persistant surveillance and rapid response capabilities that were previously unattianable.\n",
    "\n",
    "Concluding the all points\n",
    "- The MO1C-Gray Eagle excldes a sense of power and sophistication with its sleek design and impressive 56 foot wing span.\n",
    "- Equipped with stat of the art sensors and communication systems, it possesses super human-like intelligence to gather critical information in real-time.\n",
    "- With a length of 28 feet and a payload capacity of over 1,000 pounds it showcases remarkable adaptability and versality.\n",
    "- Despites being unmanned, the Gray Eagle is dependable and ready to tackle any mission, from reconnaissance to precision strike.\n",
    "- It stands as a symbol of human ingenuity and innovation, pushing the boundaries of what is possbile in modern aerial warfare.\n",
    "\n",
    "Conclusion:\n",
    "- In conclusion, the MO1C-Gray Eagle UAV stands as a testament to innovation and ingenuity in aerospace engineering. It is sleek design advanced technology and unparalleled capturing the imagination of those who witness its impressive performance in action."
   ]
  },
  {
   "cell_type": "code",
   "execution_count": null,
   "metadata": {
    "vscode": {
     "languageId": "plaintext"
    }
   },
   "outputs": [],
   "source": [
    "# Eagle Performance Parameters\n",
    "\n",
    "max_mach = 0.26\n",
    "max_speed = 167 #knots\n",
    "cruise_mach = 0.228\n",
    "cruise_speed = 135 #knots\n",
    "cruise_altitude = 29000 #ft\n",
    "range = 1000 #nm\n",
    "ceiling = 29000 #ft\n",
    "wing_loading = 24 #lb/ft\n",
    "take_off_distance =2300 #ft\n",
    "landing_distance = 1800 #ft\n",
    "endurance = 25 \n",
    "\n",
    "# Gray-Eagle Engine Specifications\n",
    "\n",
    "power_plant = 165 #HP\n",
    "no_of_engine = 1\n",
    "engine_power = 165 #HP\n",
    "BSFC = 0.37 #0.39 lb/hp_hr\n",
    "\n",
    "#Performance-Parameters\n",
    "\n",
    "performance_max_mach = 0.23\n",
    "performance_payload = 600 #lbs\n",
    "performance_Endurance = 28 #h\n",
    "performance_ceiling = 25000 #ft\n",
    "performance_range = 650 #nm\n",
    "performance_max_take_off_weight = 3000 #lbs\n",
    "performance_take_off_distance = 1000 #ft\n",
    "performance_landing_distance = 850 #ft\n",
    "\n",
    "#gray-eagle general Specifications Parameters\n",
    "\n",
    "length = 28\n",
    "wings_span = 56 #ft\n",
    "aspect_ratio = 20\n",
    "height = 9.8 #ft\n",
    "wing_Area = 150 #sq_ft\n",
    "payload_weight = 575 #lb\n",
    "max_take_off_weight = 3600\n",
    "fuel_capacity = 575 #lb\n",
    "crew = 0\n",
    "\n",
    "\n"
   ]
  },
  {
   "cell_type": "markdown",
   "metadata": {},
   "source": []
  }
 ],
 "metadata": {
  "language_info": {
   "name": "python"
  }
 },
 "nbformat": 4,
 "nbformat_minor": 2
}
